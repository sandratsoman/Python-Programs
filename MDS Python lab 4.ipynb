{
 "cells": [
  {
   "cell_type": "markdown",
   "metadata": {},
   "source": [
    "# Functions in python- P2, Lab 4\n",
    "## Sandra TS\n",
    "## 1740151\n",
    "## Date: 15/8/2020"
   ]
  },
  {
   "cell_type": "code",
   "execution_count": 20,
   "metadata": {},
   "outputs": [],
   "source": [
    "import pandas as pd\n",
    "Bloomingdales={\"Bridals\":{\"product\":['Adrianna Papell Beaded Godet Gown',\n",
    "                                                        'Adrianna Papell Sequined Mikado Gown',\n",
    "                                                        'Lauren Ralph Lauren x WONDER WOMAN Jaydin Pleated Cape Crepe Gown'],\n",
    "                                     \"price\":[2999.00,1995.00,2400.00]},\n",
    "               \"Cosmeticss\":{\"product\":['Estée Lauder Double Wear Stay-in-Place Liquid Makeup','La Mer Crème de la Mer'],\n",
    "                                        \"price\":[300.00,2400.00]},\n",
    "               \"Fragrances\":{\"product\":['Parfums de Marly Delina Eau de Parfum 2.5 oz.','Kilian Love Dont Be Shy 1.7 oz.'],\n",
    "                            \"price\":[400.00,550.00]}}\n",
    "\n",
    "MAC={\"Cosmeticss\":{\"product\":['PRO LONGWEAR PAINT POT','PREP + PRIME 24-HOUR EXTEND EYE BASE'],\n",
    "                  \"price\":[100.00,90.00]}}\n",
    "\n",
    "JoMaloneLondon={\"Fragrances\":{\"product\":['Fresh & Playful Travel Trio - 100% Exclusive','ENGLISH PEAR & FREESIA'],\n",
    "                             \"price\":[200.00,350.00]}}\n",
    "\n",
    "JimmyChoo={\"Accessoriess\":{\"product\":['Light-Gold Metallic Croc-Embossed Leather Mini Bag with Crystal Buckle','DONNA Pink Flash and Silver Cat Eye Sunglasses with Pink Glitter'],\n",
    "           \"price\":[850.00,4000.00]}}\n",
    "\n",
    "RalphLauren={\"Accessoriess\":{\"product\":['Polo Ralph Lauren Navy Floral Printed Card Case','Polo Ralph Lauren Blue Denim Tote Bag'],\n",
    "                            \"price\":[2500.00,1000.00]},\n",
    "             \"Bridals\":{\"product\":['Sequined Evening Gown','Metallic One-Shoulder Gown','Ralph Lauren Gold/Bronze Evening Gown'],\n",
    "                       \"price\":[35000.00,40000.00,55000.00]},\n",
    "             \"Shoess\":{\"product\":['Metallic Nappa Jacoba Sandal','Ralph Lauren Crystal Heels','Ralph Lauren Snakeskin Sandals'],\n",
    "                      \"price\":[4000.00,2500.00,30000.00]}}\n",
    "\n",
    "VictoriasSecret={\"Lingeries\":{\"product\":['White lace corset','Lightly Lined Demi Lace-Up Bustier'],\n",
    "                 \"price\":[2500.00,1500.00]}}\n",
    "\n",
    "Nayomi={\"Lingeries\":{\"product\":['Grey Solid Non-Wired Non Padded Everyday Bra EB004','Black Lace Non-Wired Heavily Padded Push-Up Bra LEO01'],\n",
    "        \"price\":[90.00,300.00]}}\n",
    "\n",
    "AdidasOriginals={\"Shoess\":{\"product\":['WOMENS ADIDAS ORIGINALS FLB_RUNNER SHOES','WOMENS ADIDAS RUNNING ASWEERUN SHOES'],\n",
    "                 \"price\":[400.00,350.00]}}\n",
    "\n",
    "LouisVuitton={\"Jewellerys\":{\"product\":['THE GREAT ESSENTIAL TORQUE NECKLACE','ESSENTIAL V PERLE BRACELET','ESSENTIAL V PERLE RING'],\n",
    "              \"price\":[400000.00,250000.00,30000.00]}}\n",
    "\n",
    "Tiffanyandco={\"Jewellerys\":{\"product\":['Diamond Vine Bypass Ring in Platinum','Makers Medium Slice Ring in 18k Gold','Olive Leaf Band Ring'],\n",
    "              \"price\":[95000.00,99000.00,75000.00]}}"
   ]
  },
  {
   "cell_type": "code",
   "execution_count": 21,
   "metadata": {},
   "outputs": [],
   "source": [
    "\n",
    "store_directory={'Beauty and fragrances':{'Cosmetics':{'Bloomingdales':Bloomingdales['Cosmeticss'],'MAC':MAC['Cosmeticss']},\n",
    "                                          'Fragrance':{'Bloomingdales':Bloomingdales['Fragrances'],'Jo Malone London':JoMaloneLondon['Fragrances']}},\n",
    "            'Fashion-Women':{'Accessories':{'Jimmy Choo':JimmyChoo['Accessoriess'],'Ralph Lauren':RalphLauren['Accessoriess']},\n",
    "                             'Bridal':{'Bloomingdales':Bloomingdales['Bridals'],'Ralph Lauren':RalphLauren['Bridals']},\n",
    "                             'Lingerie':{'Victorias Secret':VictoriasSecret['Lingeries'],'Nayomi':Nayomi['Lingeries']},\n",
    "                             'Shoes':{'Adidas Originals':AdidasOriginals['Shoess'],'Ralph Lauren':RalphLauren['Shoess']},\n",
    "                             'Jewellery':{'Louis Vuitton':LouisVuitton['Jewellerys'],'Tiffany & co':Tiffanyandco['Jewellerys']}}}"
   ]
  },
  {
   "cell_type": "code",
   "execution_count": 22,
   "metadata": {},
   "outputs": [],
   "source": [
    "def purchace():\n",
    "    print(store_directory.keys())\n",
    "    cat=input(\"Type the category you want to shop: \")\n",
    "    for i in range(len(list(store_directory))):\n",
    "        if cat==list(store_directory)[i]:\n",
    "            print(store_directory[cat].keys())\n",
    "            subcategory=input(\"\\n choose the subcategory:\")\n",
    "            if subcategory in store_directory[cat]:\n",
    "                print(print(store_directory[cat][subcategory].keys()))\n",
    "                store=input(\"Select the store:\")\n",
    "                if store in store_directory[cat][subcategory].keys():\n",
    "                    df=pd.DataFrame(store_directory[cat][subcategory][store])\n",
    "                    print(df)\n",
    "                    choice=int(input(\"Enter the product index you choose:\"))\n",
    "                    for i in range(len(df)):\n",
    "                        if choice==i:\n",
    "                            cost=df['price'].values[i]\n",
    "                            print(\"product price=\",cost)\n",
    "                            return(cost)\n",
    "            else:\n",
    "                print(\"invalid input\")"
   ]
  },
  {
   "cell_type": "code",
   "execution_count": 26,
   "metadata": {},
   "outputs": [
    {
     "name": "stdout",
     "output_type": "stream",
     "text": [
      "dict_keys(['Beauty and fragrances', 'Fashion-Women'])\n",
      "Type the category you want to shop: Fashion-Women\n",
      "dict_keys(['Accessories', 'Bridal', 'Lingerie', 'Shoes', 'Jewellery'])\n",
      "\n",
      " choose the subcategory:Accessories\n",
      "dict_keys(['Jimmy Choo', 'Ralph Lauren'])\n",
      "None\n",
      "Select the store:Jimmy Choo\n",
      "                                             product   price\n",
      "0  Light-Gold Metallic Croc-Embossed Leather Mini...   850.0\n",
      "1  DONNA Pink Flash and Silver Cat Eye Sunglasses...  4000.0\n",
      "Enter the product index you choose:1\n",
      "product price= 4000.0\n",
      "Do you wish to continue purchasing? \n",
      "(If yes, enter y): y\n",
      "dict_keys(['Beauty and fragrances', 'Fashion-Women'])\n",
      "Type the category you want to shop: Fashion-Women\n",
      "dict_keys(['Accessories', 'Bridal', 'Lingerie', 'Shoes', 'Jewellery'])\n",
      "\n",
      " choose the subcategory:Bridal\n",
      "dict_keys(['Bloomingdales', 'Ralph Lauren'])\n",
      "None\n",
      "Select the store:Bloomingdales\n",
      "                                             product   price\n",
      "0                  Adrianna Papell Beaded Godet Gown  2999.0\n",
      "1               Adrianna Papell Sequined Mikado Gown  1995.0\n",
      "2  Lauren Ralph Lauren x WONDER WOMAN Jaydin Plea...  2400.0\n",
      "Enter the product index you choose:2\n",
      "product price= 2400.0\n",
      "Do you wish to continue purchasing? \n",
      "(If yes, enter y): y\n",
      "dict_keys(['Beauty and fragrances', 'Fashion-Women'])\n",
      "Type the category you want to shop: Fashion-Women\n",
      "dict_keys(['Accessories', 'Bridal', 'Lingerie', 'Shoes', 'Jewellery'])\n",
      "\n",
      " choose the subcategory:Jewellery\n",
      "dict_keys(['Louis Vuitton', 'Tiffany & co'])\n",
      "None\n",
      "Select the store:Louis Vuitton\n",
      "                               product     price\n",
      "0  THE GREAT ESSENTIAL TORQUE NECKLACE  400000.0\n",
      "1           ESSENTIAL V PERLE BRACELET  250000.0\n",
      "2               ESSENTIAL V PERLE RING   30000.0\n",
      "Enter the product index you choose:0\n",
      "product price= 400000.0\n",
      "Do you wish to continue purchasing? \n",
      "(If yes, enter y): n\n",
      "[4000.0, 2400.0, 400000.0]\n"
     ]
    }
   ],
   "source": [
    "bill=[]\n",
    "total=0\n",
    "while True:\n",
    "    amount=purchace()\n",
    "    bill.append(amount)\n",
    "    cont=input(\"Do you wish to continue purchasing? \\n(If yes, enter y): \")\n",
    "    if not cont=='y':\n",
    "        break\n",
    "print(bill)\n",
    "for i in range(0, len(bill)): \n",
    "    total = total + bill[i] \n"
   ]
  },
  {
   "cell_type": "code",
   "execution_count": 27,
   "metadata": {},
   "outputs": [
    {
     "name": "stdout",
     "output_type": "stream",
     "text": [
      "Total amount= 406400.0 AED\n",
      "Discount :  40640.0\n",
      "Net Pay(inclusive of all taxes)  :  431596.8 AED\n"
     ]
    }
   ],
   "source": [
    "print(\"Total amount=\",total,\"AED\")\n",
    "\n",
    "if total<=5000:\n",
    "    disc =lambda x: x*0.01\n",
    "elif total<=15000:\n",
    "    disc=lambda x: x*0.03\n",
    "elif total<=25000:\n",
    "    disc=lambda x: x*0.05\n",
    "else:\n",
    "    disc=lambda x: x*0.1\n",
    "    \n",
    "discount=disc(total)\n",
    "net_pay=total-discount\n",
    "if net_pay<100:\n",
    "    net_pay=net_pay+(net_pay*0.03)\n",
    "else:\n",
    "    net_pay=net_pay+(net_pay*0.18)\n",
    "print(\"Discount : \",discount)   \n",
    "print(\"Net Pay(inclusive of all taxes)  : \",net_pay,\"AED\")\n"
   ]
  },
  {
   "cell_type": "code",
   "execution_count": 28,
   "metadata": {},
   "outputs": [
    {
     "name": "stdout",
     "output_type": "stream",
     "text": [
      "Net pay in rupees= 8782994.88 INR\n"
     ]
    }
   ],
   "source": [
    "print(\"Net pay in rupees=\",net_pay*20.35,\"INR\")"
   ]
  },
  {
   "cell_type": "code",
   "execution_count": null,
   "metadata": {},
   "outputs": [],
   "source": []
  }
 ],
 "metadata": {
  "kernelspec": {
   "display_name": "Python 3",
   "language": "python",
   "name": "python3"
  },
  "language_info": {
   "codemirror_mode": {
    "name": "ipython",
    "version": 3
   },
   "file_extension": ".py",
   "mimetype": "text/x-python",
   "name": "python",
   "nbconvert_exporter": "python",
   "pygments_lexer": "ipython3",
   "version": "3.6.5"
  }
 },
 "nbformat": 4,
 "nbformat_minor": 2
}
